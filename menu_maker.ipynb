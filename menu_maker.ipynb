{
 "cells": [
  {
   "cell_type": "markdown",
   "metadata": {},
   "source": [
    "# An idea\n",
    "Make a database of recipes with tags for nutrition info, vegetaruan, vegan, etc. Then let users enter their dietary requirements - calories per day, macros, vegan, do you snack, etc - and generate a weekly meal plan to meet those requirements.\n",
    "\n",
    "Upgrades could include uploading current weight, goal weight and date, and automatically calculating calories per day. Switching any item in the menu for another one that meets the requirements. A recommender system that sees which recipes you normally like (you can rate them) and suggests similar ones. A slider bar that adjusts what fraction of your suggested meals are similar to others and which ones are new suggestions.\n",
    "\n",
    "Ideally, when a user initiates their account, they enter current weight, goal weight, goal date, nutritional needs, and rate with stars a few representative meals so that we get an idea of what sort of recipes they prefer.\n",
    "\n",
    "Eventually, if this were to work with epicure or something like that, it would generate an automatic shopping list with links to their products.\n",
    "\n",
    "It would probably be best to use SQL to store recipes, for scalability.\n",
    "\n",
    "I am using https://rogerbinns.github.io/apsw/download.html plus DB browser for SQL lite (desktop app).\n",
    "\n",
    "A tool I would personally like it a thing for my phone where it suggests what I should eat for the day, but if I eat something different, I can enter it, and then it will re-adjust with suggestions for the rest of the day. Also, it should remember what I have eaten in the past so I can see insights and maybe it can learn to suggest things I like."
   ]
  },
  {
   "cell_type": "code",
   "execution_count": 2,
   "metadata": {},
   "outputs": [],
   "source": [
    "import apsw  # that was a bitch to install; only works with python 3 on my machine\n",
    "import numpy as np"
   ]
  },
  {
   "cell_type": "code",
   "execution_count": 3,
   "metadata": {},
   "outputs": [],
   "source": [
    "# Opening/creating database\n",
    "dbfile = \"recipes_db/recipes.db\"\n",
    "connection = apsw.Connection(dbfile)\n",
    "cursor = connection.cursor()"
   ]
  },
  {
   "cell_type": "markdown",
   "metadata": {},
   "source": [
    "### TODO: what is a connection and what is a cursor?\n",
    "\n",
    "\n",
    "Here is an example of how to use apsw: https://rogerbinns.github.io/apsw/example.html"
   ]
  },
  {
   "cell_type": "code",
   "execution_count": 4,
   "metadata": {},
   "outputs": [
    {
     "name": "stdout",
     "output_type": "stream",
     "text": [
      "(1, '100 calorie greek yogurt', 'greek', 100, 1, 1, None, 1)\n",
      "(2, 'Pan-fried potatoes', 'american', '', 1, 1, 1, '')\n"
     ]
    }
   ],
   "source": [
    "# for now, start with selecting some data from my db\n",
    "for row in cursor.execute(\"select * from recipes\"):\n",
    "    print(row)"
   ]
  },
  {
   "cell_type": "markdown",
   "metadata": {},
   "source": [
    "Cool, that's the basic functionality I need. Now let's make an algorithm that generates a daily menu.\n",
    "# Make a function that will choose a meal\n",
    "Given a dictionary of nutrition requirements, a list of tolerances on those nutrition requirements, and the type of meal we want."
   ]
  },
  {
   "cell_type": "code",
   "execution_count": 14,
   "metadata": {},
   "outputs": [],
   "source": [
    "# template inputs for query\n",
    "# goal nutrition intake for this meal\n",
    "nutrition_reqs = {'calories': 100,\n",
    "                  'carbs': None ,\n",
    "                  'fat': None,\n",
    "                  'protein': None ,\n",
    "                  'sodium': None \n",
    "                 }\n",
    "# tuples with upper and lower tolerances\n",
    "nutrition_tol = {'calories': (),\n",
    "                 'carbs': (),\n",
    "                 'fat': (),\n",
    "                 'protein': (),\n",
    "                 'sodium': (), \n",
    "                }"
   ]
  },
  {
   "cell_type": "code",
   "execution_count": 16,
   "metadata": {},
   "outputs": [],
   "source": [
    "def choose_meal(nutrition_reqs, nutrition_tol, meal_type):\n",
    "    '''Choose a suitable meal from the database.\n",
    "    \n",
    "    Inputs:\n",
    "    nutrition_reqs: a dict of nutrition requirements for this meal\n",
    "    nutrition_tol: a dict of nutrition tolerance for this meal \n",
    "    c\n",
    "    \n",
    "    Output: \n",
    "    meal: an object corresponding to the selected row of the recipes db\n",
    "    '''\n",
    "    # query the database for all meals that meet the criteria \n",
    "    query_out = cursor.execute(\"\"\"SELECT * FROM recipes \n",
    "                               WHERE\n",
    "                               (calories BETWEEN {} AND {})\n",
    "                               AND (carbs BETWEEN {} AND {})\n",
    "                               AND (fat BETWEEN {} AND {})\n",
    "                               AND (protein BETWEEN {} AND {})\n",
    "                               AND (sodium BEWEEN {} AND {})\n",
    "                               AND (meal_type == {})\n",
    "                               \"\"\".format(nutrition_reqs['calories'], nutrition_tol['calories'][0],  nutrition_tol['calories'][1],\n",
    "                                          nutrition_reqs['carbs'], nutrition_tol['carbs'][0],  nutrition_tol['carbs'][1],\n",
    "                                          nutrition_reqs['fat'], nutrition_tol['fat'][0],  nutrition_tol['fat'][1],\n",
    "                                          nutrition_reqs['protein'], nutrition_tol['protein'][0],  nutrition_tol['protein'][1],\n",
    "                                          nutrition_reqs['sodium'], nutrition_tol['sodium'][0],  nutrition_tol['sodium'][1],\n",
    "                                          meal_type\n",
    "                                         ))\n",
    "    # choose a meal at random\n",
    "    # TODO: later, a more sophisticated version of this could be done\n",
    "    # choose in some non-random way\n",
    "    meal = query_out[np.random.uniform(0, len(query_out))]\n",
    "    \n",
    "    return(meal)"
   ]
  },
  {
   "cell_type": "markdown",
   "metadata": {},
   "source": [
    "## Make a function that will make a meal plan for an entire day \n",
    "\n",
    "Here's a question- how do I set the nutrition requirements and tolerances for each meal? What is the optimum way to divide nutrients throughout the meals in a day? Maybe I should start by defining the relative size of meals I prefer. I'll give each a number from 0 to 1 indicating how much of my daily nutrients I like to have with each meal...\n",
    "\n",
    "Dinner is important to me; 0.3 seems reasonable. For lunch, I like a decent amount as well, so let's give lunch 0.25. Breakfast should have 0.2. This leaves 0.25 for snacks and dessert, so I'll just split it in two and give them each 0.125. I'll call these vaules `meal_significance`."
   ]
  },
  {
   "cell_type": "code",
   "execution_count": 27,
   "metadata": {},
   "outputs": [],
   "source": [
    "meal_significance = {'breakfast': 0.2,\n",
    "                    'lunch': 0.25,\n",
    "                    'dinner': 0.3,\n",
    "                    'snack': 0.125,\n",
    "                    'dessert': 0.125\n",
    "                    }\n",
    "assert(np.sum(list(meal_significance.values())) == 1.)"
   ]
  },
  {
   "cell_type": "code",
   "execution_count": 28,
   "metadata": {},
   "outputs": [],
   "source": [
    "def get_meal_nutrition(nutrition_reqs_daily, nutrition_tol_daily, meal_significance, meal_type):\n",
    "    '''Define the goal nutrition requirements and tolerance for a given meal. \n",
    "    \n",
    "    Inputs:\n",
    "    nutrition_reqs_daily: a dict of nutrition requirements for this day\n",
    "    nutrition_tol_daily: a dict of nutrition tolerance for this day \n",
    "    meal_significance: a dict of relative number of goal nutrients per meal\n",
    "    meal_type: a string, can be \"breakfast\", \"lunch\", \"dinner\", \"snack\", or \"dessert\"\n",
    "    \n",
    "    Outputs:\n",
    "    nutrition_reqs_meal: a dict of nutrition requirements for this meal\n",
    "    nutrition_tol_meal: a dict of nutrition tolerance for this meal \n",
    "    '''\n",
    "    nutrition_reqs_meal = {'calories': nutrition_reqs_daily['calories'] * meal_significance[meal_type],\n",
    "                           'carbs': nutrition_reqs_daily['carbs'] * meal_significance[meal_type] ,\n",
    "                           'fat': nutrition_reqs_daily['fat'] * meal_significance[meal_type],\n",
    "                           'protein': nutrition_reqs_daily['protein'] * meal_significance[meal_type] ,\n",
    "                           'sodium': nutrition_reqs_daily['sodium'] * meal_significance[meal_type] \n",
    "                          }\n",
    "    # tuples with upper and lower tolerances\n",
    "    nutrition_tol_meal = {'calories': (nutrition_tol_daily['calories'][0] * meal_significance[meal_type],\n",
    "                                       nutrition_tol_daily['calories'][1] * meal_significance[meal_type]),\n",
    "                          'carbs': (nutrition_tol_daily['carbs'][0] * meal_significance[meal_type],\n",
    "                                    nutrition_tol_daily['carbs'][1] * meal_significance[meal_type]),\n",
    "                          'fat': (nutrition_tol_daily['fat'][0] * meal_significance[meal_type],\n",
    "                                  nutrition_tol_daily['fat'][1] * meal_significance[meal_type]),\n",
    "                          'protein': (nutrition_tol_daily['protein'][0] * meal_significance[meal_type],\n",
    "                                      nutrition_tol_daily['protein'][1] * meal_significance[meal_type]),\n",
    "                          'sodium': (nutrition_tol_daily['sodium'][0] * meal_significance[meal_type],\n",
    "                                    nutrition_tol_daily['sodium'][1] * meal_significance[meal_type])\n",
    "                         }\n",
    "    \n",
    "    return(nutrition_reqs_meal, nutrition_tol_meal)"
   ]
  },
  {
   "cell_type": "markdown",
   "metadata": {},
   "source": [
    "TODO: need to add functionality that adjusts nutrition requirements and tolerances for other meals in a day if one meal is particularly light or heavy."
   ]
  },
  {
   "cell_type": "code",
   "execution_count": null,
   "metadata": {},
   "outputs": [],
   "source": [
    "def make_daily_plan(nutrition_reqs_daily, nutrition_tol_daily, meal_significance):\n",
    "    '''Choose a suitable set of meals for the day from the database.\n",
    "    \n",
    "    Inputs:\n",
    "    nutrition_reqs_daily: a dict of nutrition requirements for this day\n",
    "    nutrition_tol_daily: a dict of nutrition tolerance for this day \n",
    "    meal_significance: a dict of relative number of goal nutrients per meal\n",
    "    \n",
    "    \n",
    "    Outputs:\n",
    "    breakfast, lunch, dinner, snack, dessert: objects corresponding to the selected\n",
    "                                              row of the recipes db for each meal\n",
    "    '''\n",
    "    breakfast = choose_meal(br_nutrition_reqs, br_nutrition_tol, meal_type='breakfast')\n",
    "    lunch = choose_meal(lu_nutrition_reqs, lu_nutrition_tol, meal_type='lunch')\n",
    "    dinner = choose_meal(di_nutrition_reqs, di_nutrition_tol, meal_type='dinner')\n",
    "    snack = choose_meal(sn_nutrition_reqs, sn_nutrition_tol, meal_type='snack')\n",
    "    dessert = choose_meal(de_nutrition_reqs, de_nutrition_tol, meal_type='dessert')\n",
    "    \n",
    "    return(breakfast, lunch, dinner, snack, dessert)"
   ]
  }
 ],
 "metadata": {
  "kernelspec": {
   "display_name": "Python 3",
   "language": "python",
   "name": "python3"
  },
  "language_info": {
   "codemirror_mode": {
    "name": "ipython",
    "version": 3
   },
   "file_extension": ".py",
   "mimetype": "text/x-python",
   "name": "python",
   "nbconvert_exporter": "python",
   "pygments_lexer": "ipython3",
   "version": "3.5.4"
  }
 },
 "nbformat": 4,
 "nbformat_minor": 2
}
